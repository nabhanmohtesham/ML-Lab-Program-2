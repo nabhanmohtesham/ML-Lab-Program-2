{
 "cells": [
  {
   "cell_type": "code",
   "execution_count": 6,
   "metadata": {},
   "outputs": [],
   "source": [
    "import csv"
   ]
  },
  {
   "cell_type": "code",
   "execution_count": 7,
   "metadata": {},
   "outputs": [],
   "source": [
    "with open('C:/Users/hp/Desktop/4MT17CS005_Abigail/lab1.csv') as f:\n",
    "    csv_file=csv.reader(f)\n",
    "    data=list(csv_file)"
   ]
  },
  {
   "cell_type": "code",
   "execution_count": 8,
   "metadata": {},
   "outputs": [
    {
     "name": "stdout",
     "output_type": "stream",
     "text": [
      "[['sunny', 'warm', 'normal', 'strong', 'warm', 'same', 'yes'], ['sunny', 'warm', 'high', 'strong', 'warm', 'same', 'yes'], ['rainy', 'cold', 'high', 'strong', 'warm', 'change', 'no'], ['sunny', 'warm', 'high', 'strong', 'cool', 'change', 'yes']]\n"
     ]
    }
   ],
   "source": [
    "print(data)"
   ]
  },
  {
   "cell_type": "code",
   "execution_count": 5,
   "metadata": {},
   "outputs": [],
   "source": [
    "s=data[1][:-1]\n",
    "g=[['?' for i in range(len(s))] for j in range(len(s))]"
   ]
  },
  {
   "cell_type": "code",
   "execution_count": 12,
   "metadata": {},
   "outputs": [
    {
     "name": "stdout",
     "output_type": "stream",
     "text": [
      "\n",
      "Steps of candidate elimination algorithm 1\n",
      "['sunny', 'warm', '?', 'strong', 'warm', 'same']\n",
      "[['?', '?', '?', '?', '?', '?'], ['?', '?', '?', '?', '?', '?'], ['?', '?', '?', '?', '?', '?'], ['?', '?', '?', '?', '?', '?'], ['?', '?', '?', '?', '?', '?'], ['?', '?', '?', '?', '?', '?']]\n",
      "\n",
      "Steps of candidate elimination algorithm 2\n",
      "['sunny', 'warm', '?', 'strong', 'warm', 'same']\n",
      "[['?', '?', '?', '?', '?', '?'], ['?', '?', '?', '?', '?', '?'], ['?', '?', '?', '?', '?', '?'], ['?', '?', '?', '?', '?', '?'], ['?', '?', '?', '?', '?', '?'], ['?', '?', '?', '?', '?', '?']]\n",
      "\n",
      "Steps of candidate elimination algorithm 3\n",
      "['sunny', 'warm', '?', 'strong', 'warm', 'same']\n",
      "[['sunny', '?', '?', '?', '?', '?'], ['?', 'warm', '?', '?', '?', '?'], ['?', '?', '?', '?', '?', '?'], ['?', '?', '?', '?', '?', '?'], ['?', '?', '?', '?', '?', '?'], ['?', '?', '?', '?', '?', 'same']]\n",
      "\n",
      "Steps of candidate elimination algorithm 4\n",
      "['sunny', 'warm', '?', 'strong', '?', '?']\n",
      "[['sunny', '?', '?', '?', '?', '?'], ['?', 'warm', '?', '?', '?', '?'], ['?', '?', '?', '?', '?', '?'], ['?', '?', '?', '?', '?', '?'], ['?', '?', '?', '?', '?', '?'], ['?', '?', '?', '?', '?', '?']]\n",
      "\n",
      "Final specific hypothesis:\n",
      " ['sunny', 'warm', '?', 'strong', '?', '?']\n",
      "\n",
      "Final General hypothesis:\n",
      " [['sunny', '?', '?', '?', '?', '?'], ['?', 'warm', '?', '?', '?', '?']]\n"
     ]
    }
   ],
   "source": [
    "for i in data:\n",
    "    if i[-1]==\"yes\":\n",
    "        for j in range(len(s)):\n",
    "            if i[j]!=s[j]:\n",
    "                s[j]='?'\n",
    "                g[j][j]='?'\n",
    "    elif i[-1]==\"no\":\n",
    "        for j in range(len(s)):\n",
    "            if i[j]!=s[j]:\n",
    "                g[j][j]=s[j]\n",
    "            else:\n",
    "                g[j][j]=\"?\"\n",
    "    print(\"\\nSteps of candidate elimination algorithm\",data.index(i)+1)\n",
    "    print(s)\n",
    "    print(g)\n",
    "    gh=[]\n",
    "for i in g:\n",
    "    for j in i:\n",
    "        if j!='?':\n",
    "            gh.append(i)\n",
    "            break\n",
    "print(\"\\nFinal specific hypothesis:\\n\",s)\n",
    "print(\"\\nFinal General hypothesis:\\n\",gh)\n",
    "            \n",
    "    "
   ]
  },
  {
   "cell_type": "code",
   "execution_count": null,
   "metadata": {},
   "outputs": [],
   "source": []
  }
 ],
 "metadata": {
  "kernelspec": {
   "display_name": "Python 3",
   "language": "python",
   "name": "python3"
  },
  "language_info": {
   "codemirror_mode": {
    "name": "ipython",
    "version": 3
   },
   "file_extension": ".py",
   "mimetype": "text/x-python",
   "name": "python",
   "nbconvert_exporter": "python",
   "pygments_lexer": "ipython3",
   "version": "3.7.3"
  }
 },
 "nbformat": 4,
 "nbformat_minor": 2
}
